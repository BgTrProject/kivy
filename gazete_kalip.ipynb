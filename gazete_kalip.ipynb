{
  "nbformat": 4,
  "nbformat_minor": 0,
  "metadata": {
    "colab": {
      "name": "gazete_kalip.ipynb",
      "provenance": [],
      "collapsed_sections": [],
      "authorship_tag": "ABX9TyOJQgSMjvKjwR4GPOYp7KbS",
      "include_colab_link": true
    },
    "kernelspec": {
      "name": "python3",
      "display_name": "Python 3"
    },
    "language_info": {
      "name": "python"
    }
  },
  "cells": [
    {
      "cell_type": "markdown",
      "metadata": {
        "id": "view-in-github",
        "colab_type": "text"
      },
      "source": [
        "<a href=\"https://colab.research.google.com/github/BgTrProject/kivy/blob/main/gazete_kalip.ipynb\" target=\"_parent\"><img src=\"https://colab.research.google.com/assets/colab-badge.svg\" alt=\"Open In Colab\"/></a>"
      ]
    },
    {
      "cell_type": "code",
      "execution_count": 1,
      "metadata": {
        "id": "tMv5mgNYNDn0"
      },
      "outputs": [],
      "source": [
        "class A:\n",
        "  def __init__(self,p_link,plink2,plink3):\n",
        "    self.p_link=p_link\n",
        "    self.p_link2=None\n",
        "    self.p_link2=None\n",
        "    self.p_url=None\n",
        "    \n",
        "    \n",
        "  def pgl_creater(p_link):\n",
        "    \n",
        "    s=str(p_link)\n",
        "    print(s)\n",
        "    h=\"pages link created {}\".format(s)\n",
        "    # print(h)\n",
        "    return h\n",
        "  def get_all_links(p_url):\n",
        "    m=\"all links ok  {}\".format(p_url)\n",
        "    return m\n",
        "  def get_content(url):\n",
        "    n=\"content ok{}\".format(url)\n",
        "    print(n)\n",
        "    return n\n",
        "  def main(self):\n",
        "    aa=A.pgl_creater(self.p_link)\n",
        "    print(aa)\n",
        "    bb=A.get_all_links(aa)\n",
        "    print(bb)\n",
        "    cc=A.get_content(bb)\n",
        "    print(cc)"
      ]
    },
    {
      "cell_type": "code",
      "source": [
        "class B:\n",
        "  def __init__(self,bp_link,bp_link2,bp_link3):\n",
        "    self.bp_link=bp_link\n",
        "    self.bp_link2=bp_link2\n",
        "    self.bp_link3=bp_link3\n",
        "    self.bp_url=None\n",
        "    # print(p_link)\n",
        "    \n",
        "  def pgl_creater(bp_link,bp_link2,bp_link3):\n",
        "    # print(self.p_link)\n",
        "    ss=str(bp_link)    \n",
        "    print(ss)\n",
        "    hh=\"BB  pages link created {} {} {} \".format(ss,bp_link2,bp_link3)\n",
        "    # print(h)\n",
        "    return hh\n",
        "  def get_all_links(bp_url):\n",
        "    m=\"BB all links ok  {}\".format(bp_url)\n",
        "    return m\n",
        "  def get_content(url):\n",
        "    n=\"BB content ok{}\".format(url)\n",
        "    print(n)\n",
        "  def main(self):\n",
        "    a2=B.pgl_creater(self.bp_link,self.bp_link2,self.bp_link3)\n",
        "    print(a2)\n",
        "    b2=B.get_all_links(a2)\n",
        "    print(b2)\n",
        "    c2=B.get_content(b2)\n",
        "    print(c2)"
      ],
      "metadata": {
        "id": "jQ7_g-O17TXI"
      },
      "execution_count": 2,
      "outputs": []
    },
    {
      "cell_type": "code",
      "source": [
        "class search_all:\n",
        "  def __init__(self,search,date,date2):\n",
        "    self.search=search\n",
        "    self.date=date\n",
        "    self.date2=date2\n",
        "  \n",
        "    cl=[\"A\",\"B\"]\n",
        "    clases=[]\n",
        "    for i in cl:  \n",
        "      g=i\n",
        "      r2=\"{}={}(\".format(g.lower(),g)\n",
        "      print(r2)\n",
        "      clases.append(r2)\n",
        "    \n",
        "    s_key=[]\n",
        "    for j in clases:\n",
        "      st='{}\"{}\",\"{}\",\"{}\")'.format(j,search,date,date2)\n",
        "      print(st)\n",
        "      s_key.append(st)\n",
        "      r_key=[]\n",
        "    for i in s_key:\n",
        "      \n",
        "      mm=i[0:1]\n",
        "      rm='{}.main()'.format(mm)\n",
        "      r_key.append(rm)\n",
        "\n",
        "    for i,j in s_key,r_key:\n",
        "      exec(i)\n",
        "      exec(j)\n",
        "    print(\"all search completed successfully\")\n",
        "\n",
        "\n",
        "\n",
        "\n"
      ],
      "metadata": {
        "id": "kgfS9CAwOPlp"
      },
      "execution_count": 3,
      "outputs": []
    },
    {
      "cell_type": "code",
      "source": [
        "search=\"virus\"\n",
        "date=\"2000-01-01\"\n",
        "date2=\"2002-12-12\"\n",
        "sa=search_all(search,date,date2)\n",
        "\n"
      ],
      "metadata": {
        "id": "EQkUvcM2PFSb",
        "colab": {
          "base_uri": "https://localhost:8080/"
        },
        "outputId": "4cce84c7-3593-4e65-e02d-dc729d7cbf2a"
      },
      "execution_count": 4,
      "outputs": [
        {
          "output_type": "stream",
          "name": "stdout",
          "text": [
            "a=A(\n",
            "b=B(\n",
            "a=A(\"virus\",\"2000-01-01\",\"2002-12-12\")\n",
            "b=B(\"virus\",\"2000-01-01\",\"2002-12-12\")\n",
            "virus\n",
            "pages link created virus\n",
            "all links ok  pages link created virus\n",
            "content okall links ok  pages link created virus\n",
            "content okall links ok  pages link created virus\n",
            "virus\n",
            "BB  pages link created virus 2000-01-01 2002-12-12 \n",
            "BB all links ok  BB  pages link created virus 2000-01-01 2002-12-12 \n",
            "BB content okBB all links ok  BB  pages link created virus 2000-01-01 2002-12-12 \n",
            "None\n",
            "all search completed successfully\n"
          ]
        }
      ]
    }
  ]
}